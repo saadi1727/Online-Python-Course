{
 "cells": [
  {
   "cell_type": "code",
   "execution_count": 1,
   "id": "9b4366a7",
   "metadata": {},
   "outputs": [
    {
     "name": "stdout",
     "output_type": "stream",
     "text": [
      "The sum of numbers in the list is: 873\n"
     ]
    }
   ],
   "source": [
    "list=[23,11,16,76,88,99,54,61,32,56,78,100,24,66,48,41]\n",
    "\n",
    "print(\"The sum of numbers in the list is:\", sum(list))"
   ]
  },
  {
   "cell_type": "code",
   "execution_count": null,
   "id": "08ee5ddd",
   "metadata": {},
   "outputs": [],
   "source": []
  }
 ],
 "metadata": {
  "kernelspec": {
   "display_name": "Python 3",
   "language": "python",
   "name": "python3"
  },
  "language_info": {
   "codemirror_mode": {
    "name": "ipython",
    "version": 3
   },
   "file_extension": ".py",
   "mimetype": "text/x-python",
   "name": "python",
   "nbconvert_exporter": "python",
   "pygments_lexer": "ipython3",
   "version": "3.8.8"
  }
 },
 "nbformat": 4,
 "nbformat_minor": 5
}
