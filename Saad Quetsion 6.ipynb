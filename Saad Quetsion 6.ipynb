{
 "cells": [
  {
   "cell_type": "code",
   "execution_count": 3,
   "id": "b9e2b4ab",
   "metadata": {},
   "outputs": [
    {
     "name": "stdout",
     "output_type": "stream",
     "text": [
      "Enter First Number:8\n",
      "Enter Second Number:9\n",
      "The Sum of above two number is: 17\n"
     ]
    }
   ],
   "source": [
    "s=int(input(\"Enter First Number:\"))\n",
    "d=int(input(\"Enter Second Number:\"))\n",
    "print(\"The Sum of above two number is:\",s+d)\n"
   ]
  },
  {
   "cell_type": "code",
   "execution_count": null,
   "id": "15e0489f",
   "metadata": {},
   "outputs": [],
   "source": []
  }
 ],
 "metadata": {
  "kernelspec": {
   "display_name": "Python 3",
   "language": "python",
   "name": "python3"
  },
  "language_info": {
   "codemirror_mode": {
    "name": "ipython",
    "version": 3
   },
   "file_extension": ".py",
   "mimetype": "text/x-python",
   "name": "python",
   "nbconvert_exporter": "python",
   "pygments_lexer": "ipython3",
   "version": "3.8.8"
  }
 },
 "nbformat": 4,
 "nbformat_minor": 5
}
