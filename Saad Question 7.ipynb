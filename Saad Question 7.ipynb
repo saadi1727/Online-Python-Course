{
 "cells": [
  {
   "cell_type": "code",
   "execution_count": 1,
   "id": "addd5ac1",
   "metadata": {},
   "outputs": [
    {
     "name": "stdout",
     "output_type": "stream",
     "text": [
      "Enter English Marks:88\n",
      "Enter Maths Marks:41\n",
      "Enter Urdu Marks:39\n",
      "Enter Physics Marks:60\n",
      "Enter Chemistry Marks:98\n",
      "The Percentage of this student is: 72.44444444444444\n",
      "And He/She Secure\n",
      "Grade A\n"
     ]
    }
   ],
   "source": [
    "english=int(input(\"Enter English Marks:\"))\n",
    "maths=int(input(\"Enter Maths Marks:\"))\n",
    "urdu=int(input(\"Enter Urdu Marks:\"))\n",
    "physics=int(input(\"Enter Physics Marks:\"))\n",
    "chemistry=int(input(\"Enter Chemistry Marks:\"))\n",
    "total= (english+maths+urdu+physics+chemistry)*100\n",
    "percentage=total/450\n",
    "print(\"The Percentage of this student is:\", percentage)\n",
    "print(\"And He/She Secure\")\n",
    "if percentage<100 and percentage>=80:\n",
    "    print(\"Grade A+\")\n",
    "elif percentage>=70 and percentage<80:\n",
    "    print(\"Grade A\")\n",
    "elif percentage>=60 and percentage>70:\n",
    "    print(\"Grade B\")\n",
    "elif percentage>=50 and percentage>60:\n",
    "    print(\"Grade C\")\n",
    "elif percentage>100:\n",
    "    print(\"You have entered wrong marks, please correct it\")\n",
    "else:\n",
    "    print (\"Fail\")"
   ]
  },
  {
   "cell_type": "code",
   "execution_count": null,
   "id": "e632037e",
   "metadata": {},
   "outputs": [],
   "source": []
  }
 ],
 "metadata": {
  "kernelspec": {
   "display_name": "Python 3",
   "language": "python",
   "name": "python3"
  },
  "language_info": {
   "codemirror_mode": {
    "name": "ipython",
    "version": 3
   },
   "file_extension": ".py",
   "mimetype": "text/x-python",
   "name": "python",
   "nbconvert_exporter": "python",
   "pygments_lexer": "ipython3",
   "version": "3.8.8"
  }
 },
 "nbformat": 4,
 "nbformat_minor": 5
}
