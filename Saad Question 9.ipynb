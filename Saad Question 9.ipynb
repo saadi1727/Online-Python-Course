{
 "cells": [
  {
   "cell_type": "code",
   "execution_count": 1,
   "id": "eed33d1a",
   "metadata": {},
   "outputs": [
    {
     "name": "stdout",
     "output_type": "stream",
     "text": [
      "The Number of Items in the List are: 9\n"
     ]
    }
   ],
   "source": [
    "list=[\"apple\",24,\"Hello\",90,\"SAAD\",False,\"Alphabets\",\"Maths\", \"Mansoor\"]\n",
    "print(\"The Number of Items in the List are:\",len(list))"
   ]
  },
  {
   "cell_type": "code",
   "execution_count": null,
   "id": "3dd14ea0",
   "metadata": {},
   "outputs": [],
   "source": []
  }
 ],
 "metadata": {
  "kernelspec": {
   "display_name": "Python 3",
   "language": "python",
   "name": "python3"
  },
  "language_info": {
   "codemirror_mode": {
    "name": "ipython",
    "version": 3
   },
   "file_extension": ".py",
   "mimetype": "text/x-python",
   "name": "python",
   "nbconvert_exporter": "python",
   "pygments_lexer": "ipython3",
   "version": "3.8.8"
  }
 },
 "nbformat": 4,
 "nbformat_minor": 5
}
