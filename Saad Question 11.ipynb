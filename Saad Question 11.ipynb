{
 "cells": [
  {
   "cell_type": "code",
   "execution_count": 1,
   "id": "ee785c1b",
   "metadata": {},
   "outputs": [
    {
     "name": "stdout",
     "output_type": "stream",
     "text": [
      "Largest element among th whole list is: 100\n"
     ]
    }
   ],
   "source": [
    "list = [34,77,83,75,98,42,55,14,22,100]\n",
    "  \n",
    "list.sort()\n",
    "  \n",
    "print(\"Largest element among th whole list is:\", list[-1])"
   ]
  },
  {
   "cell_type": "code",
   "execution_count": null,
   "id": "93a4982a",
   "metadata": {},
   "outputs": [],
   "source": []
  }
 ],
 "metadata": {
  "kernelspec": {
   "display_name": "Python 3",
   "language": "python",
   "name": "python3"
  },
  "language_info": {
   "codemirror_mode": {
    "name": "ipython",
    "version": 3
   },
   "file_extension": ".py",
   "mimetype": "text/x-python",
   "name": "python",
   "nbconvert_exporter": "python",
   "pygments_lexer": "ipython3",
   "version": "3.8.8"
  }
 },
 "nbformat": 4,
 "nbformat_minor": 5
}
